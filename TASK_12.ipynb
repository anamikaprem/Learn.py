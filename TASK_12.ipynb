{
  "nbformat": 4,
  "nbformat_minor": 0,
  "metadata": {
    "colab": {
      "name": "TASK 12.ipynb",
      "provenance": [],
      "include_colab_link": true
    },
    "kernelspec": {
      "name": "python3",
      "display_name": "Python 3"
    },
    "language_info": {
      "name": "python"
    }
  },
  "cells": [
    {
      "cell_type": "markdown",
      "metadata": {
        "id": "view-in-github",
        "colab_type": "text"
      },
      "source": [
        "<a href=\"https://colab.research.google.com/github/anamikaprem/Learn.py/blob/main/TASK_12.ipynb\" target=\"_parent\"><img src=\"https://colab.research.google.com/assets/colab-badge.svg\" alt=\"Open In Colab\"/></a>"
      ]
    },
    {
      "cell_type": "markdown",
      "metadata": {
        "id": "i9LeFsII-SAQ"
      },
      "source": [
        "1. Create an 4x4 array with elements ranging from 0-15. And find the trace of the array."
      ]
    },
    {
      "cell_type": "code",
      "metadata": {
        "id": "eT1ymGjZ-pOZ",
        "outputId": "5e1a1217-1afa-40e5-a534-4ecb45c1544d",
        "colab": {
          "base_uri": "https://localhost:8080/"
        }
      },
      "source": [
        "import numpy as np \n",
        "mat = np.random.randint(0,15,(4,4))\n",
        "print(\"Array\\n\",mat)\n",
        "print(\"Trace of the Array is: \\n\",mat.trace())\n"
      ],
      "execution_count": 6,
      "outputs": [
        {
          "output_type": "stream",
          "text": [
            "Array\n",
            " [[12  4 14 11]\n",
            " [11 10 13 12]\n",
            " [ 0  2  5  5]\n",
            " [ 3 10  0 13]]\n",
            "Trace of the Array is: \n",
            " 40\n"
          ],
          "name": "stdout"
        }
      ]
    },
    {
      "cell_type": "markdown",
      "metadata": {
        "id": "Hw69FYds-zww"
      },
      "source": [
        "2. Create a matrix with elements [6,1,1],[4,-2,5],[2,8,7].Now find the inverse this matrix."
      ]
    },
    {
      "cell_type": "code",
      "metadata": {
        "id": "IAhA-qIwAoxs",
        "outputId": "82c2b9dd-2ab1-4d04-d633-405d07f42aa2",
        "colab": {
          "base_uri": "https://localhost:8080/"
        }
      },
      "source": [
        "import numpy as np\n",
        "mat = np.array([[6,1,1],[4,-2,5],[2,8,7]])\n",
        "print(\"Matix\\n\",mat)\n",
        "print(\"\\nThe Inverse of Matrix is :\\n\",np.linalg.inv(mat))\n"
      ],
      "execution_count": 5,
      "outputs": [
        {
          "output_type": "stream",
          "text": [
            "Matix\n",
            " [[ 6  1  1]\n",
            " [ 4 -2  5]\n",
            " [ 2  8  7]]\n",
            "\n",
            "The Inverse of Matrix is :\n",
            " [[ 0.17647059 -0.00326797 -0.02287582]\n",
            " [ 0.05882353 -0.13071895  0.08496732]\n",
            " [-0.11764706  0.1503268   0.05228758]]\n"
          ],
          "name": "stdout"
        }
      ]
    },
    {
      "cell_type": "markdown",
      "metadata": {
        "id": "6B6aJDFKAz0B"
      },
      "source": [
        "3. Create an 3x3 array with elements ranging from 0-8. And find the norm this array."
      ]
    },
    {
      "cell_type": "code",
      "metadata": {
        "id": "49RVb-g3CXSk",
        "outputId": "5a73862c-564d-43ce-e50f-4869dd4e51ea",
        "colab": {
          "base_uri": "https://localhost:8080/"
        }
      },
      "source": [
        "import numpy as np \n",
        "mat = np.random.randint(0,8,(3,3))\n",
        "print(\"Array\\n\",mat)\n",
        "print(\"\\nThe Norm of the Matrix is\\n\",np.linalg.norm(mat))\n"
      ],
      "execution_count": 3,
      "outputs": [
        {
          "output_type": "stream",
          "text": [
            "Array\n",
            " [[7 0 2]\n",
            " [1 5 4]\n",
            " [1 2 5]]\n",
            "\n",
            "The Norm of the Matrix is\n",
            " 11.180339887498949\n"
          ],
          "name": "stdout"
        }
      ]
    },
    {
      "cell_type": "markdown",
      "metadata": {
        "id": "pGKEu4lxDCJK"
      },
      "source": [
        "4. Create a 4x4 array whose value ranging from 0-15.And find the eigenvalues and eigenvectors of this array."
      ]
    },
    {
      "cell_type": "code",
      "metadata": {
        "id": "GxrUWw10Ox7n",
        "outputId": "521e5dda-7fd4-44cd-cd1a-90b561ae46aa",
        "colab": {
          "base_uri": "https://localhost:8080/"
        }
      },
      "source": [
        "import numpy as np\n",
        "mat = np.random.randint(0,15,(4,4))\n",
        "print(\"Array\\n\",mat)\n",
        "print(\"\\nThe EigenValue and EigenVectors of the Matrix is\\n\",np.linalg.eig(mat))"
      ],
      "execution_count": 4,
      "outputs": [
        {
          "output_type": "stream",
          "text": [
            "Array\n",
            " [[ 7  6  1  9]\n",
            " [10  0  0 10]\n",
            " [13 14  7  0]\n",
            " [14  2  5  5]]\n",
            "\n",
            "The EigenValue and EigenVectors of the Matrix is\n",
            " (array([24.4780569+0.j        , -3.3879047+0.j        ,\n",
            "       -1.0450761+5.09104783j, -1.0450761-5.09104783j]), array([[-0.43320609+0.j        , -0.55533277+0.j        ,\n",
            "         0.18938019-0.1982957j ,  0.18938019+0.1982957j ],\n",
            "       [-0.38667207+0.j        ,  0.04726573+0.j        ,\n",
            "         0.29430077-0.11338884j,  0.29430077+0.11338884j],\n",
            "       [-0.63194028+0.j        ,  0.6312732 +0.j        ,\n",
            "        -0.81815922+0.j        , -0.81815922-0.j        ],\n",
            "       [-0.513292  +0.j        ,  0.53931959+0.j        ,\n",
            "        -0.16241006+0.35997562j, -0.16241006-0.35997562j]]))\n"
          ],
          "name": "stdout"
        }
      ]
    }
  ]
}