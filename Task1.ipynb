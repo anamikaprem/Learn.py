{
  "nbformat": 4,
  "nbformat_minor": 0,
  "metadata": {
    "colab": {
      "name": "Untitled",
      "provenance": [],
      "authorship_tag": "ABX9TyPhhqgPBTE7vedWpXYGQrDp",
      "include_colab_link": true
    },
    "kernelspec": {
      "name": "python3",
      "display_name": "Python 3"
    },
    "language_info": {
      "name": "python"
    }
  },
  "cells": [
    {
      "cell_type": "markdown",
      "metadata": {
        "id": "view-in-github",
        "colab_type": "text"
      },
      "source": [
        "<a href=\"https://colab.research.google.com/github/anamikaprem/Learn.py/blob/main/Task1.ipynb\" target=\"_parent\"><img src=\"https://colab.research.google.com/assets/colab-badge.svg\" alt=\"Open In Colab\"/></a>"
      ]
    },
    {
      "cell_type": "markdown",
      "metadata": {
        "id": "lIChpg5sApK7"
      },
      "source": [
        " 1.Write a program that uses input to prompt a user for their name and then welcomes them."
      ]
    },
    {
      "cell_type": "code",
      "metadata": {
        "colab": {
          "base_uri": "https://localhost:8080/"
        },
        "id": "W-hkoXAN_EIk",
        "outputId": "78964343-a0c8-4645-f4d2-6c6ffbf108fb"
      },
      "source": [
        "print(\"Anamika,welcome to the class\")"
      ],
      "execution_count": null,
      "outputs": [
        {
          "output_type": "stream",
          "text": [
            "Anamika,welcome to the class\n"
          ],
          "name": "stdout"
        }
      ]
    },
    {
      "cell_type": "markdown",
      "metadata": {
        "id": "3rVa1kT_A8Zf"
      },
      "source": [
        "2.Write a program which prompts the user for a Celsius temperature, convert the temperature to Fahrenheit, and print out the converted temperature."
      ]
    },
    {
      "cell_type": "code",
      "metadata": {
        "colab": {
          "base_uri": "https://localhost:8080/"
        },
        "id": "JH3Kx8BBA_MA",
        "outputId": "585b9116-633f-4ec7-bbfa-2768d6536d64"
      },
      "source": [
        "Celsius = 37\n",
        "Fahrenheit = (Celsius *9/5)+32\n",
        "print(\"the value of celsius temperature in fahrenheit is\",(Fahrenheit))"
      ],
      "execution_count": null,
      "outputs": [
        {
          "output_type": "stream",
          "text": [
            "the value of celsius temperature in fahrenheit is 98.6\n"
          ],
          "name": "stdout"
        }
      ]
    },
    {
      "cell_type": "markdown",
      "metadata": {
        "id": "jthzio5uBCFZ"
      },
      "source": [
        "3.Write a Python program to convert degree to radian."
      ]
    },
    {
      "cell_type": "code",
      "metadata": {
        "id": "L_8A49TbBETe",
        "colab": {
          "base_uri": "https://localhost:8080/"
        },
        "outputId": "1e8df44e-b1bc-4e57-e8d4-fa16f7d678e0"
      },
      "source": [
        "Degree = 45 \n",
        "Radian = 45*180/3.14\n",
        "print(\"convert degree to radian\",(Radian))"
      ],
      "execution_count": null,
      "outputs": [
        {
          "output_type": "stream",
          "text": [
            "convert degree to radian 2579.6178343949045\n"
          ],
          "name": "stdout"
        }
      ]
    }
  ]
}