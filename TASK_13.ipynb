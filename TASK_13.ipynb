{
  "nbformat": 4,
  "nbformat_minor": 0,
  "metadata": {
    "colab": {
      "name": "TASK 13.ipynb",
      "provenance": [],
      "include_colab_link": true
    },
    "kernelspec": {
      "name": "python3",
      "display_name": "Python 3"
    },
    "language_info": {
      "name": "python"
    }
  },
  "cells": [
    {
      "cell_type": "markdown",
      "metadata": {
        "id": "view-in-github",
        "colab_type": "text"
      },
      "source": [
        "<a href=\"https://colab.research.google.com/github/anamikaprem/Learn.py/blob/main/TASK_13.ipynb\" target=\"_parent\"><img src=\"https://colab.research.google.com/assets/colab-badge.svg\" alt=\"Open In Colab\"/></a>"
      ]
    },
    {
      "cell_type": "markdown",
      "metadata": {
        "id": "RUSoRkrOqNwf"
      },
      "source": [
        "1. Create a 3x3 array values ranging from 0-8.Find the sum of the elements in this array."
      ]
    },
    {
      "cell_type": "code",
      "metadata": {
        "id": "t01ATYQpqq8u",
        "outputId": "42e95990-3a53-44a3-b0e4-8788f8e009d0",
        "colab": {
          "base_uri": "https://localhost:8080/"
        }
      },
      "source": [
        "import numpy as np\n",
        "mat = np.random.randint(0,8,(3,3))\n",
        "print(\"\\n The Matrix is:\\n\",mat)\n",
        "sum = np.sum(mat)\n",
        "print(\"\\n Sum is :\\n\",sum)\n"
      ],
      "execution_count": 1,
      "outputs": [
        {
          "output_type": "stream",
          "text": [
            "\n",
            " The Matrix is:\n",
            " [[4 3 2]\n",
            " [3 0 4]\n",
            " [3 7 2]]\n",
            "\n",
            " Sum is :\n",
            " 28\n"
          ],
          "name": "stdout"
        }
      ]
    },
    {
      "cell_type": "markdown",
      "metadata": {
        "id": "k3Y7nQF7r3IW"
      },
      "source": [
        "2. Create a 3x3 array values ranging from 0-8.Find the row sum and column sum of this array."
      ]
    },
    {
      "cell_type": "code",
      "metadata": {
        "id": "BzvIlWfvsICv",
        "outputId": "2572b76b-c649-4a8a-99fb-fd288c2726a7",
        "colab": {
          "base_uri": "https://localhost:8080/"
        }
      },
      "source": [
        "import numpy as np\n",
        "mat = np.random.randint(0,8,(3,3))\n",
        "print(\"\\n The Matrix is:\\n\",mat)\n",
        "col = np.sum(mat,axis =0)\n",
        "print(\"\\n Sum of Columns:\\n\",col)\n",
        "row = np.sum(mat,axis =1)\n",
        "print(\"\\n Sum of Columns:\\n\",row)\n"
      ],
      "execution_count": 2,
      "outputs": [
        {
          "output_type": "stream",
          "text": [
            "\n",
            " The Matrix is:\n",
            " [[7 6 7]\n",
            " [6 4 6]\n",
            " [3 3 3]]\n",
            "\n",
            " Sum of Columns:\n",
            " [16 13 16]\n",
            "\n",
            " Sum of Columns:\n",
            " [20 16  9]\n"
          ],
          "name": "stdout"
        }
      ]
    },
    {
      "cell_type": "markdown",
      "metadata": {
        "id": "KOPMsbnrsgue"
      },
      "source": [
        "3. Create a 4x4 array values ranging from 0-15. Now,\n",
        "\n",
        "    a) Find the mininmum value in the array.\n",
        "    \n",
        "    b) Find the maximum value in the array.\n",
        "\n",
        "    c) Find the mean of the values in the array."
      ]
    },
    {
      "cell_type": "code",
      "metadata": {
        "id": "1UzITxp3WDaW",
        "outputId": "43bc23e5-1e6b-43a3-b2f0-27341dcf270a",
        "colab": {
          "base_uri": "https://localhost:8080/"
        }
      },
      "source": [
        "import numpy as np\n",
        "mat = np.random.randint(0,15,(4,4))\n",
        "print(\"\\n The Matrix is:\\n\",mat) \n",
        "min = np.min(mat)\n",
        "print(\"\\n Minimum Value is\\n\",min) \n",
        "max = np.max(mat)\n",
        "print(\"\\n Maximum Value is\\n\",max) \n",
        "mean = np.mean(mat)\n",
        "print(\"\\n Minimum Value is\\n\",mean)"
      ],
      "execution_count": 3,
      "outputs": [
        {
          "output_type": "stream",
          "text": [
            "\n",
            " The Matrix is:\n",
            " [[ 0 12 13  5]\n",
            " [ 8 14  1  0]\n",
            " [ 1  1  0  9]\n",
            " [ 8  0  1  0]]\n",
            "\n",
            " Minimum Value is\n",
            " 0\n",
            "\n",
            " Maximum Value is\n",
            " 14\n",
            "\n",
            " Minimum Value is\n",
            " 4.5625\n"
          ],
          "name": "stdout"
        }
      ]
    },
    {
      "cell_type": "markdown",
      "metadata": {
        "id": "Pah9qGButoz2"
      },
      "source": [
        "4. Create an 10x10 array values ranging from 0-99.And ,\n",
        "\n",
        "    a) Print the 7th row.\n",
        "    \n",
        "    b) Print the rows from 4-8.\n",
        "\n",
        "    c) Print the value at the index 5,5.\n",
        "\n",
        "    d) Print the 5th colomn.\n",
        "\n",
        "    e) Print the columns from 2-5."
      ]
    },
    {
      "cell_type": "code",
      "metadata": {
        "id": "JFXPq0GkvhKi",
        "outputId": "43527669-62bd-4d42-aa3e-47f00f806451",
        "colab": {
          "base_uri": "https://localhost:8080/"
        }
      },
      "source": [
        "import numpy as np\n",
        "mat = np.random.randint(0,99,(10,10))\n",
        "print(\"\\n The Matrix is:\\n\",mat)\n",
        "print(\"\\nThe 7th row is :\\n\",mat[7,:]) \n",
        "print(\"\\nThe 4-8th row is :\\n\",mat[4:8,:])\n",
        "print(\"\\nThe value at (5,5) is :\\n\",mat[5,5]) \n",
        "print(\"\\nThe 5th column) is :\\n\",mat[:,5])\n",
        "print(\"\\nThe 2-5th column) is :\\n\",mat[:,2:5])\n"
      ],
      "execution_count": 4,
      "outputs": [
        {
          "output_type": "stream",
          "text": [
            "\n",
            " The Matrix is:\n",
            " [[10  2 62 13 92 45 25 48 10  1]\n",
            " [98 94 55 89 35 33 63  6 33  5]\n",
            " [44 56 27 70 76 63 55 81 72 14]\n",
            " [45 28 25 46 13 62 96 70 42 42]\n",
            " [98  9 45 54 41 50 73 95 17 49]\n",
            " [26 87  1 71 17  6 90 83  0 78]\n",
            " [48 24 93 19 87 17 80 96 75 42]\n",
            " [86 78 16 54 65  2 68 37 80 39]\n",
            " [42 41 55  0 45 29 23 17 84 60]\n",
            " [24  3 19 21 30 52 71 11 74 83]]\n",
            "\n",
            "The 7th row is :\n",
            " [86 78 16 54 65  2 68 37 80 39]\n",
            "\n",
            "The 4-8th row is :\n",
            " [[98  9 45 54 41 50 73 95 17 49]\n",
            " [26 87  1 71 17  6 90 83  0 78]\n",
            " [48 24 93 19 87 17 80 96 75 42]\n",
            " [86 78 16 54 65  2 68 37 80 39]]\n",
            "\n",
            "The value at (5,5) is :\n",
            " 6\n",
            "\n",
            "The 5th column) is :\n",
            " [45 33 63 62 50  6 17  2 29 52]\n",
            "\n",
            "The 2-5th column) is :\n",
            " [[62 13 92]\n",
            " [55 89 35]\n",
            " [27 70 76]\n",
            " [25 46 13]\n",
            " [45 54 41]\n",
            " [ 1 71 17]\n",
            " [93 19 87]\n",
            " [16 54 65]\n",
            " [55  0 45]\n",
            " [19 21 30]]\n"
          ],
          "name": "stdout"
        }
      ]
    }
  ]
}