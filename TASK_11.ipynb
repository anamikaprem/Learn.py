{
  "nbformat": 4,
  "nbformat_minor": 0,
  "metadata": {
    "colab": {
      "name": "TASK 11.ipynb",
      "provenance": [],
      "include_colab_link": true
    },
    "kernelspec": {
      "name": "python3",
      "display_name": "Python 3"
    },
    "language_info": {
      "name": "python"
    }
  },
  "cells": [
    {
      "cell_type": "markdown",
      "metadata": {
        "id": "view-in-github",
        "colab_type": "text"
      },
      "source": [
        "<a href=\"https://colab.research.google.com/github/anamikaprem/Learn.py/blob/main/TASK_11.ipynb\" target=\"_parent\"><img src=\"https://colab.research.google.com/assets/colab-badge.svg\" alt=\"Open In Colab\"/></a>"
      ]
    },
    {
      "cell_type": "markdown",
      "metadata": {
        "id": "Ud2gZIbu6E59"
      },
      "source": [
        "N.B: Please find the answers by applying the functions on the matrices"
      ]
    },
    {
      "cell_type": "markdown",
      "metadata": {
        "id": "_9JX1Vdn4sTN"
      },
      "source": [
        "1. Create 2 3×3 matrix with 0-8 and 10-19 as elements in each and perform the vectorize multiplication operations on the matrices.(Outer product, Dot product, Element wise product)."
      ]
    },
    {
      "cell_type": "code",
      "metadata": {
        "id": "aBzAn6Z75VQ6",
        "outputId": "5fc13f95-be4f-469d-f1e0-b9dedda75725",
        "colab": {
          "base_uri": "https://localhost:8080/"
        }
      },
      "source": [
        "import numpy as np\n",
        "mat1 = np.random.randint(0,8,(3,3))\n",
        "mat2 = np.random.randint(10,19,(3,3)) \n",
        "print(\"Matrix A\\n\" ,mat1) \n",
        "print(\"\\nMatrix B\\n\" ,mat2) \n",
        "out = np.multiply.outer(mat1,mat2)\n",
        "print(\"Outer Products\\n\",out) \n",
        "dot = np.dot(mat1,mat2)\n",
        "print(\"Dot Products\\n\",dot) \n",
        "Ele = np.multiply(mat1,mat2)\n",
        "print(\"Element Wise\\n\",Ele)\n"
      ],
      "execution_count": 3,
      "outputs": [
        {
          "output_type": "stream",
          "text": [
            "Matrix A\n",
            " [[2 1 6]\n",
            " [0 7 3]\n",
            " [2 4 2]]\n",
            "\n",
            "Matrix B\n",
            " [[16 18 17]\n",
            " [14 16 14]\n",
            " [10 16 13]]\n",
            "Outer Products\n",
            " [[[[ 32  36  34]\n",
            "   [ 28  32  28]\n",
            "   [ 20  32  26]]\n",
            "\n",
            "  [[ 16  18  17]\n",
            "   [ 14  16  14]\n",
            "   [ 10  16  13]]\n",
            "\n",
            "  [[ 96 108 102]\n",
            "   [ 84  96  84]\n",
            "   [ 60  96  78]]]\n",
            "\n",
            "\n",
            " [[[  0   0   0]\n",
            "   [  0   0   0]\n",
            "   [  0   0   0]]\n",
            "\n",
            "  [[112 126 119]\n",
            "   [ 98 112  98]\n",
            "   [ 70 112  91]]\n",
            "\n",
            "  [[ 48  54  51]\n",
            "   [ 42  48  42]\n",
            "   [ 30  48  39]]]\n",
            "\n",
            "\n",
            " [[[ 32  36  34]\n",
            "   [ 28  32  28]\n",
            "   [ 20  32  26]]\n",
            "\n",
            "  [[ 64  72  68]\n",
            "   [ 56  64  56]\n",
            "   [ 40  64  52]]\n",
            "\n",
            "  [[ 32  36  34]\n",
            "   [ 28  32  28]\n",
            "   [ 20  32  26]]]]\n",
            "Dot Products\n",
            " [[106 148 126]\n",
            " [128 160 137]\n",
            " [108 132 116]]\n",
            "Element Wise\n",
            " [[ 32  18 102]\n",
            " [  0 112  42]\n",
            " [ 20  64  26]]\n"
          ],
          "name": "stdout"
        }
      ]
    },
    {
      "cell_type": "markdown",
      "metadata": {
        "id": "gJGtIjx25k92"
      },
      "source": [
        "2. Create a 4×4 matrix with 0-16  as elements in it. Add a scalar 4 to the matrix and also multiply it with [1,2,3,4] 1-D matrix by broadcasting. ( Please note to do both the addition and multiplication by broadcasting.)"
      ]
    },
    {
      "cell_type": "code",
      "metadata": {
        "id": "H7cznh8M56r-",
        "outputId": "ee40cd30-dfb0-4dec-e2e1-46219c1eb783",
        "colab": {
          "base_uri": "https://localhost:8080/"
        }
      },
      "source": [
        "import numpy as np \n",
        "mat = np.random.randint(0,16,(4,4))\n",
        "print(\"Matrix is \\n\", mat) \n",
        "#adding 4(scalar)to the matrix\n",
        "scal = 2\n",
        "addScal = mat + scal\n",
        "print(\"\\n Scalar Matrix\\n\",addScal) \n",
        "#matrix broadcasting\n",
        "nums = np.array([1,2,3,4])\n",
        "mult = mat * nums\n",
        "print(\"\\nThe Multiplication by broadcasting\\n\",mult)\n"
      ],
      "execution_count": 5,
      "outputs": [
        {
          "output_type": "stream",
          "text": [
            "Matrix is \n",
            " [[13  7  9 10]\n",
            " [12  1  0  9]\n",
            " [ 0  4  0 13]\n",
            " [ 0  3 10 14]]\n",
            "\n",
            " Scalar Matrix\n",
            " [[15  9 11 12]\n",
            " [14  3  2 11]\n",
            " [ 2  6  2 15]\n",
            " [ 2  5 12 16]]\n",
            "\n",
            "The Multiplication by broadcasting\n",
            " [[13 14 27 40]\n",
            " [12  2  0 36]\n",
            " [ 0  8  0 52]\n",
            " [ 0  6 30 56]]\n"
          ],
          "name": "stdout"
        }
      ]
    }
  ]
}